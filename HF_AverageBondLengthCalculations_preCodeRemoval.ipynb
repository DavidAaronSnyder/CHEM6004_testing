{
 "cells": [
  {
   "cell_type": "markdown",
   "metadata": {},
   "source": [
    "# Langevin dynamics simulation of the vibrational motion of HF\n",
    "\n",
    "As described in the companion document to this notebook, this exercise involves using the BBK integrator to perform a Langevin dynamics simulation of the HF molecule\n",
    "\n",
    "We will start by importing a few useful libraries - these are packages of python code that provide capabilities to do numerical calculations, plot data, etc. We will then create arrays (or lists) for the bond length and energies at each bond length as in last week's computational exercise. "
   ]
  },
  {
   "cell_type": "code",
   "execution_count": 1,
   "metadata": {},
   "outputs": [],
   "source": [
    "import numpy as np\n",
    "from matplotlib import pyplot as plt\n",
    "from scipy.interpolate import InterpolatedUnivariateSpline\n",
    "\n",
    "molecules = []\n",
    "r_array = [0.5, 0.55,0.6,0.65,0.7,0.75,0.8,0.85,0.9,0.95,1.0,1.1,1.2,1.3,1.4,1.5,1.6,1.7,1.8,1.9,2.0,2.1,2.2,2.3] \n",
    "E_array = [-99.65145319155353, -99.8994262443721,-100.06621001317194,-100.17756325854646,-100.25063259195414,-100.2970313588523,-100.32474168482375,-100.33931605978479,-100.34465565789081,-100.34352787324143,-100.33791544225228,-100.31857920174716,-100.29403975969775,-100.26820624042988,-100.24311492569184,-100.21980547092805,-100.19879112534593,-100.18029259214076,-100.16434868570335,-100.15087255990257,-100.13968771534014,-100.13055798203477,-100.12321514624568,-100.11738316835266]"
   ]
  },
  {
   "cell_type": "markdown",
   "metadata": {},
   "source": [
    "We now fit our energy potential surface using a *spline* just like in the previous computational exercise. We will then differentiate this spline to obtain a force (and differentiate the force to obtain our spring constant). While we are setting things up, let us also calculate the equilibrium both length for HF and the reduced mass of HF in atomic units (just like last time). We'll also need to perform the same interpolation as last time."
   ]
  },
  {
   "cell_type": "code",
   "execution_count": 2,
   "metadata": {},
   "outputs": [
    {
     "name": "stdout",
     "output_type": "stream",
     "text": [
      " Equilibrium bond length is  1.7313919597989949 atomic units\n",
      " Req is  0.9160804020100503 Angstroms\n",
      "Reduced mass is  1744.1974999319154 atomic units\n",
      "The spring constant for the HF molecule viewed as a harmonic oscillator is  0.6400845065940467 atomic units\n"
     ]
    }
   ],
   "source": [
    "''' Create array of bond lengths in atomic units called r_array_au and fit PES to splines in this cell! '''\n",
    "r_array_au = np.array(r_array) * 1.89\n",
    "''' create a cubic spline for the energies vs bond length in atomic units here! '''\n",
    "E_spline = InterpolatedUnivariateSpline(r_array_au, E_array, k=3)\n",
    "\n",
    "### form a much finer grid to evaluate spline object at\n",
    "r_fine = np.linspace(0.5*1.89,2.3*1.89,200)\n",
    "### compute the interpolated/extrapolated values for Energy on this grid\n",
    "E_fine = E_spline(r_fine)\n",
    "minE = min(E_fine)\n",
    "\n",
    "fE = E_spline.derivative()\n",
    "cE = fE.derivative()\n",
    "\n",
    "### Find Equilibrium Bond-Lengths for each level of theory\n",
    "Req_idx = np.argmin(E_fine)\n",
    "\n",
    "### find the value of the separation corresponding to that index\n",
    "r_eq = r_fine[Req_idx]\n",
    "\n",
    "### print equilibrium bond-lengths at each level of theory!\n",
    "print(\" Equilibrium bond length is \",r_eq, \"atomic units\")\n",
    "print(\" Req is \",r_eq/1.89, \"Angstroms\")\n",
    "\n",
    "### mass of hydrogen in atomic units\n",
    "mH = 1836.\n",
    "### mass of fluorine in atomic units\n",
    "mF = 34883.\n",
    "\n",
    "''' compute reduced mass and store it to variable mu here! '''\n",
    "mu = mH * mF/(mH + mF)\n",
    "### Print the reduced mass!\n",
    "print(\"Reduced mass is \",mu, \"atomic units\")\n",
    "\n",
    "### evaluate the second derivative at r_eq to get k\n",
    "k = cE(r_eq)\n",
    "### print the spring constant\n",
    "print(\"The spring constant for the HF molecule viewed as a harmonic oscillator is \", k, \"atomic units\")"
   ]
  },
  {
   "cell_type": "markdown",
   "metadata": {},
   "source": [
    "For our simulation of HF motion as a function of time, we need to define an initial state for our molecule. Since our molecule is being constantly perturbed by external forces (e.g. solvent molecules), it need not be in its lowest energy state, but rather it is in some \"random\" relatively low energy state."
   ]
  },
  {
   "cell_type": "code",
   "execution_count": 3,
   "metadata": {},
   "outputs": [
    {
     "name": "stdout",
     "output_type": "stream",
     "text": [
      "Initial separation is  2.5669818570244685 atomic units\n",
      "Initial velocity is    -0.0009779127848482572 atomic units\n"
     ]
    }
   ],
   "source": [
    "### define \"ground-state\" velocity:\n",
    "v = np.sqrt( np.sqrt(k/mu)/(2*mu))\n",
    "\n",
    "### get random position and velocity for HF within a reasonable range:\n",
    "### to think about: are these ranges reasonable given the temperature at which we want to simulate our system?\n",
    "###                 how would you evaluate the reasonability of these initial conditions?\n",
    "r_init = np.random.uniform(0.5*r_eq,1.5*r_eq)\n",
    "v_init = np.random.uniform(-v,v)\n",
    "\n",
    "### print initial position and velocity\n",
    "print(\"Initial separation is \",r_init, \"atomic units\")\n",
    "print(\"Initial velocity is   \",v_init, \"atomic units\")\n",
    "### establish time-step for integration to be 0.02 atomic units... this is about 0.01 femtoseconds\n",
    "### you may want to see what happens (e.g. to mean \"instantaneous temperature\" when you change this number)\n",
    "dt = 0.02\n",
    "\n",
    "### get force on particle \n",
    "F_init = -1*fE(r_init)"
   ]
  },
  {
   "cell_type": "markdown",
   "metadata": {},
   "source": [
    "Now we need to set up some parameters for our Langevin dynamics run. Changing our initial state (re-running the code above) will change the resulting Langevin dynamics trajectory as will changing the parameters below (re-running the code below). Let's calculate the average HF bond-length at the given temperature, while we are at it."
   ]
  },
  {
   "cell_type": "code",
   "execution_count": 10,
   "metadata": {},
   "outputs": [
    {
     "name": "stdout",
     "output_type": "stream",
     "text": [
      " Equilibrium bond length is  1.7304972864945398 atomic units\n",
      " R_av is  0.915607029891291 Angstroms\n"
     ]
    }
   ],
   "source": [
    "### parameters for Langevin Equation: temperature and drag\n",
    "### note that in atomic units, the Boltzmann constant is unity\n",
    "temperature = 0.00094 # approximately room temperature (295 K) in atomic units\n",
    "gamma = 0.005; # this gamma may be a bit high ... you may want to see what happens when you decrease this number\n",
    "\n",
    "### use parameters set above to get initial perturbation of force for Langevin dynamics\n",
    "rp_init = np.sqrt(2*temperature*gamma*mu/dt)*np.random.normal(0,1)\n",
    "\n",
    "# note that exp(-E_shifted) = exp(-E_fine)*exp(100) ... so \"shifting\" gives us equivalent Boltzmann distribution\n",
    "# but with easier to deal with numbers following exponentiation\n",
    "\n",
    "E_shifted = E_fine+100 \n",
    "\n",
    "''' code for calculating average bond length goes here '''\n",
    "r_av = np.sum(np.multiply(r_fine,np.exp(-E_shifted/temperature)))/np.sum(np.exp(-E_shifted/temperature))\n",
    "\n",
    "### print average bond-length in different units\n",
    "print(\" Equilibrium bond length is \",r_av, \"atomic units\")\n",
    "print(\" R_av is \",r_av/1.89, \"Angstroms\")\n"
   ]
  },
  {
   "cell_type": "markdown",
   "metadata": {},
   "source": [
    "Next we need to define our BBK function and call it to update our position and velocity. Note that in each BBK update of our velocity we need to know our current random perturbation of the force as well as the random perturbation of force at the next time step. One way to keep track of the perturbations is to output the perturbation for the next time step to use as the current perturbation in the next BBK function call: thus we need to have the current perturbation be input to the BBK function call. We also need to input the drag coefficient, gamma, and the temperature ... since the Boltzmann constant is unity in atomic units, we do not need to worry about it) into the BBK function. The following partially-complete function will update the position. You should complete the function to also update the velocity (note: Remove lines that update velocity and have students implement them)."
   ]
  },
  {
   "cell_type": "code",
   "execution_count": 11,
   "metadata": {},
   "outputs": [],
   "source": [
    "def BBK(r_curr, v_curr, rp_curr, gamma_val, temperature_val, mu, f_interp, dt):\n",
    "    ### get acceleration at current time: (force + current perturbation on force)/mass - drag\n",
    "    a_curr = (-1*f_interp(r_curr) + rp_curr)/mu - gamma_val*v_curr\n",
    "    \n",
    "    ### update velocity for half time step, for such a small time step can approximate dv = adt\n",
    "    \n",
    "    # v_halftime = v_curr + 0.5*a_curr*dt\n",
    "    \n",
    "   \n",
    "    ### use current acceleration and velocity to update position\n",
    "    r_fut = r_curr + v_curr * dt + 0.5 * a_curr * dt**2\n",
    "    \n",
    "    ### calculate the rp_future\n",
    "    \n",
    "    rp_fut = np.sqrt(2*temperature_val*gamma_val*mu/dt)*np.random.normal(0,1)\n",
    "    \n",
    "    ### use rp_fut to get future acceleration a_fut (a_tilde at the future time in the assignment), \n",
    "    ### note that we cannot take future drag into account as we have not calculated our future velocity yet\n",
    "    a_fut = (-1*f_interp(r_fut) + rp_fut)/mu\n",
    "    \n",
    "    ### use current and future acceleration to get future velocity v_fut\n",
    "    ### note that we have to \"correct\" our formula relative to the formula for velocity Verlet\n",
    "    ### as we have not included our future drag in our future acceleration\n",
    "    \n",
    "    # v_fut = (v_halftime + 0.5*a_fut*dt)/(1+0.5*gamma_val*dt)\n",
    "    v_fut = (v_curr + 0.5*(a_curr + a_fut)*dt)/(1+0.5*gamma_val*dt)\n",
    "    \n",
    "    # v_fut = v_curr + 0.5 * (a_curr + a_fut) * dt\n",
    "    \n",
    "    result = [r_fut, v_fut, rp_fut]\n",
    "    \n",
    "    return result"
   ]
  },
  {
   "cell_type": "markdown",
   "metadata": {},
   "source": [
    "Now that we have implemented the BBK algorithm as a python function, let's actually try using it to simulate HF bond vibrations."
   ]
  },
  {
   "cell_type": "code",
   "execution_count": 16,
   "metadata": {},
   "outputs": [
    {
     "data": {
      "image/png": "[encoded data removed]",
      "text/plain": [
       "<Figure size 432x288 with 1 Axes>"
      ]
     },
     "metadata": {
      "needs_background": "light"
     },
     "output_type": "display_data"
    },
    {
     "name": "stdout",
     "output_type": "stream",
     "text": [
      "Mean bond length for last 30000 time steps of the trajectory is  0.9225783769580508  Angstroms\n"
     ]
    },
    {
     "data": {
      "text/plain": [
       "'comparison code from a previous exercise as a hint:'"
      ]
     },
     "execution_count": 16,
     "metadata": {},
     "output_type": "execute_result"
    }
   ],
   "source": [
    "### how many updates do you want to perform?\n",
    "N_updates = 200000\n",
    "\n",
    "### Now use r_init and v_init and run velocity verlet update N_updates times, plot results\n",
    "### these arrays will store the time, the position vs time, and the velocity vs time\n",
    "### as weell as energy and \"instantaneous temperature\" (Eq. 3.18 in Cramer, note that we have 1 dof)\n",
    "r_vs_t = np.zeros(N_updates)\n",
    "v_vs_t = np.zeros(N_updates)\n",
    "e_vs_t = np.zeros(N_updates)\n",
    "temp_vs_t = np.zeros(N_updates)\n",
    "t_array = np.zeros(N_updates)\n",
    "\n",
    "### first entry is the intial position and velocity\n",
    "r_vs_t[0] = r_init\n",
    "v_vs_t[0] = v_init\n",
    "e_vs_t[0] = (E_spline(r_init)-minE)+0.5*mu*v_init**2 \n",
    "temp_vs_t[0] = mu*v_init**2 # note k_B is unity in atomic units, so no need to divide by anything\n",
    "\n",
    "### first BBK update\n",
    "### note that the result of a BBK call is an array whose elements are position, velocity and a perturbation term\n",
    "result_array = BBK(r_init, v_init, rp_init, gamma, temperature, mu, fE, dt)\n",
    "\n",
    "### do the update N_update-1 more times\n",
    "for i in range(1,N_updates):\n",
    "    tmp = BBK(result_array[0], result_array[1], result_array[2], gamma, temperature, mu, fE, dt)\n",
    "    result_array = tmp\n",
    "    t_array[i] = dt*i\n",
    "    r_vs_t[i] = result_array[0]\n",
    "    v_vs_t[i] = result_array[1]\n",
    "    e_vs_t[i] = (E_spline(result_array[0])-minE)+0.5*mu*result_array[1]**2\n",
    "    temp_vs_t[i] = mu*result_array[1]**2 # = 2 x the kinetic energy which is 0.5*mu*v**2\n",
    "\n",
    "### Plot the trajectory of bondlength vs time:\n",
    "plt.plot(t_array, r_vs_t, 'red')\n",
    "plt.show()\n",
    "\n",
    "### print mean bond-length for the last thirty thousand steps\n",
    "print(\"Mean bond length for last 30000 time steps of the trajectory is \",np.mean(r_vs_t[(N_updates-30000):N_updates]/1.89),\" Angstroms\")\n",
    "'''code for printing mean bond length for last 30000 time steps goes here'''\n",
    "\n",
    "'''comparison code from a previous exercise as a hint:'''\n",
    "# print(\"Mean temperature for last 10000 time steps of the trajectory is \",np.mean(temp_vs_t[(N_updates-10000):N_updates]),\" Hartrees\")\n",
    "    "
   ]
  },
  {
   "cell_type": "code",
   "execution_count": 17,
   "metadata": {},
   "outputs": [
    {
     "name": "stdout",
     "output_type": "stream",
     "text": [
      "Mean HF bond-length from Metropolis Monte Carlo is  1.071771353196088  Angstroms\n",
      "Acceptance rate is  39.5915  %\n"
     ]
    }
   ],
   "source": [
    "### Metropolis Monte-Carlo Code\n",
    "\n",
    "r_accepted_array = np.zeros(N_updates)\n",
    "num_accepted_r = 0\n",
    "r_prev = r_init\n",
    "\n",
    "E_spline_shifted = InterpolatedUnivariateSpline(r_array_au, np.add(E_array,100), k=3)\n",
    "    # think about it: why is it OK to shift energies like this? why do we want to do so?\n",
    "\n",
    "for i in range(0,N_updates):\n",
    "    # create a potential new position by perturbing old position:\n",
    "    # try perturbing old position by a random: normally distributed with mean 0 and standard deviation of 1 atomic unit\n",
    "    r_trial = r_prev + np.random.normal(0,1)\n",
    "    \n",
    "    # equation 3.34 in textbook\n",
    "    p = np.exp(-E_spline_shifted(r_trial)/temperature)/np.exp(-E_spline_shifted(r_prev)/temperature)\n",
    "\n",
    "    # note: we don't have to worry about what happens when p > 1 as it will always produce true when compared to a \n",
    "    # random value drawn from a uniform distribution on (0,1), c.f. below\n",
    "    # \"roll the dice\": accept r_trial if uniformly distributed random variable is < p\n",
    "    if(np.random.uniform()<p):\n",
    "        r_accepted_array[num_accepted_r] = r_trial\n",
    "        num_accepted_r = num_accepted_r + 1\n",
    "\n",
    "r_av_mc = np.mean(r_accepted_array[0:num_accepted_r])\n",
    "print(\"Mean HF bond-length from Metropolis Monte Carlo is \", r_av_mc/1.89, \" Angstroms\")\n",
    "\n",
    "print(\"Acceptance rate is \", 100*num_accepted_r/N_updates, \" %\")"
   ]
  },
  {
   "cell_type": "code",
   "execution_count": null,
   "metadata": {},
   "outputs": [],
   "source": []
  }
 ],
 "metadata": {
  "kernelspec": {
   "display_name": "Python 3",
   "language": "python",
   "name": "python3"
  },
  "language_info": {
   "codemirror_mode": {
    "name": "ipython",
    "version": 3
   },
   "file_extension": ".py",
   "mimetype": "text/x-python",
   "name": "python",
   "nbconvert_exporter": "python",
   "pygments_lexer": "ipython3",
   "version": "3.7.1"
  }
 },
 "nbformat": 4,
 "nbformat_minor": 2
}
